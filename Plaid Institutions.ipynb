{
 "cells": [
  {
   "cell_type": "code",
   "execution_count": 1,
   "metadata": {},
   "outputs": [
    {
     "name": "stdout",
     "output_type": "stream",
     "text": [
      "Note: you may need to restart the kernel to use updated packages.\n"
     ]
    },
    {
     "name": "stderr",
     "output_type": "stream",
     "text": [
      "'c:\\program' is not recognized as an internal or external command,\n",
      "operable program or batch file.\n"
     ]
    }
   ],
   "source": [
    "pip install requests"
   ]
  },
  {
   "cell_type": "markdown",
   "metadata": {},
   "source": [
    "# Request a List of Institutions from Plaid API"
   ]
  },
  {
   "cell_type": "code",
   "execution_count": 7,
   "metadata": {
    "scrolled": false
   },
   "outputs": [
    {
     "name": "stdout",
     "output_type": "stream",
     "text": [
      "ins_2 client_id must be a properly formatted, non-empty string\n",
      "ins_3 client_id must be a properly formatted, non-empty string\n",
      "ins_4 client_id must be a properly formatted, non-empty string\n",
      "ins_5 client_id must be a properly formatted, non-empty string\n",
      "ins_6 client_id must be a properly formatted, non-empty string\n",
      "ins_7 client_id must be a properly formatted, non-empty string\n",
      "ins_8 client_id must be a properly formatted, non-empty string\n",
      "ins_9 client_id must be a properly formatted, non-empty string\n",
      "ins_10 client_id must be a properly formatted, non-empty string\n",
      "ins_11 client_id must be a properly formatted, non-empty string\n"
     ]
    }
   ],
   "source": [
    "import requests\n",
    "import json\n",
    "import base64\n",
    "from IPython import display\n",
    "from base64 import b64decode\n",
    "\n",
    "options = True\n",
    "\n",
    "# Update these values with the keys from your Plaid Dashboard. \n",
    "# Read more about this here if you don't already have one: https://plaid.com/docs/quickstart/\n",
    "yourPlaidClientID = \"************************\"\n",
    "yourPlaidSecret = \"********************************\"\n",
    "\n",
    "# Change the bottom two values to set your starting institution ID and the max Institution ID\n",
    "# e.g. if startingInstitutionID = 0 and numOfInstitutionstoLoad = 10, the script will start at institution 1 and load up\n",
    "# to institution 10\n",
    "startingInstitutionID = 1\n",
    "maxInstitutionID = 10\n",
    "\n",
    "for x in range(maxInstitutionID):\n",
    "    \n",
    "    currentInstitution = \"ins_{}\".format(startingInstitutionID)\n",
    "    \n",
    "    response = requests.post('https://sandbox.plaid.com/institutions/get_by_id', json = {\n",
    "            \"client_id\": \"{}\".format(yourPlaidClientID),\n",
    "            \"secret\": \"{}\".format(yourPlaidSecret),\n",
    "            \"institution_id\": \"ins_{}\".format(startingInstitutionID),\n",
    "            \"country_codes\" : [\"US\",\"CA\"],\n",
    "            \"options\":{\n",
    "                \"include_optional_metadata\":options\n",
    "            }\n",
    "        })\n",
    "    \n",
    "    startingInstitutionID+=1\n",
    "\n",
    "    jsonParsed = response.json()\n",
    "\n",
    "    try:\n",
    "        print(jsonParsed[\"institution\"][\"institution_id\"] + \" \" + jsonParsed[\"institution\"][\"name\"])\n",
    "    except:\n",
    "        print(\"ins_{}\".format(startingInstitutionID) + \" \" + jsonParsed[\"error_message\"])"
   ]
  },
  {
   "cell_type": "markdown",
   "metadata": {},
   "source": [
    "# Display Institution Logo"
   ]
  },
  {
   "cell_type": "code",
   "execution_count": 6,
   "metadata": {},
   "outputs": [
    {
     "name": "stdout",
     "output_type": "stream",
     "text": [
      "ins_1 Bank of America\n"
     ]
    },
    {
     "data": {
      "image/png": "[encoded data removed]",
      "text/plain": [
       "<IPython.core.display.Image object>"
      ]
     },
     "execution_count": 6,
     "metadata": {},
     "output_type": "execute_result"
    }
   ],
   "source": [
    "# Change currentInstitution to whatever institution ID you want to see the logo for.\n",
    "# If you experience an error, read comments below.\n",
    "\n",
    "currentInstitution = 'ins_1'\n",
    "\n",
    "response = requests.post('https://sandbox.plaid.com/institutions/get_by_id', json = {\n",
    "        \"client_id\": \"5e26897c5d37d30017b9032d\",\n",
    "        \"secret\": \"0f30cd15911bb53eb5418d5b95b525\",\n",
    "        \"institution_id\": \"{}\".format(currentInstitution),\n",
    "        \"country_codes\" : [\"US\",\"CA\"],\n",
    "        \"options\":{\n",
    "            \"include_optional_metadata\":options\n",
    "        }\n",
    "    })\n",
    "\n",
    "jsonParsed = response.json()\n",
    "\n",
    "image64 = jsonParsed[\"institution\"][\"logo\"]\n",
    "\n",
    "# If you receive an error when modifying the currentInstitution variable above, \n",
    "# try commenting out the bottom two lines and uncomment the 'print(image)' line \n",
    "# to see the response; It will most probably be 'None.'\n",
    "# print(image64)\n",
    "\n",
    "print(jsonParsed[\"institution\"][\"institution_id\"] + \" \" + jsonParsed[\"institution\"][\"name\"])\n",
    "display.Image(b64decode(image64))"
   ]
  },
  {
   "cell_type": "code",
   "execution_count": null,
   "metadata": {},
   "outputs": [],
   "source": []
  }
 ],
 "metadata": {
  "kernelspec": {
   "display_name": "Python 3",
   "language": "python",
   "name": "python3"
  },
  "language_info": {
   "codemirror_mode": {
    "name": "ipython",
    "version": 3
   },
   "file_extension": ".py",
   "mimetype": "text/x-python",
   "name": "python",
   "nbconvert_exporter": "python",
   "pygments_lexer": "ipython3",
   "version": "3.8.2"
  }
 },
 "nbformat": 4,
 "nbformat_minor": 4
}
